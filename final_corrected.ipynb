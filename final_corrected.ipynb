{
 "cells": [
  {
   "cell_type": "code",
   "execution_count": 1,
   "id": "09b08307-c57f-4768-beb5-0856fd361bcf",
   "metadata": {},
   "outputs": [],
   "source": [
    "import pandas as pd\n",
    "import numpy as np\n",
    "import matplotlib.pyplot as plt\n",
    "import seaborn as sns"
   ]
  },
  {
   "cell_type": "code",
   "execution_count": 7,
   "id": "f6b6bb8f-cabc-48ef-8e8b-1c82bf39c783",
   "metadata": {},
   "outputs": [
    {
     "data": {
      "text/plain": [
       "(353594, 11)"
      ]
     },
     "execution_count": 7,
     "metadata": {},
     "output_type": "execute_result"
    }
   ],
   "source": [
    "df = pd.read_csv('final_data.csv')\n",
    "df.shape"
   ]
  },
  {
   "cell_type": "code",
   "execution_count": 11,
   "id": "15dfd443-630f-437f-a2c4-9cd9e26b534e",
   "metadata": {},
   "outputs": [],
   "source": [
    "# Get the last 1000 rows\n",
    "last_1500 = df.tail(1500)\n",
    "\n",
    "# Get the remaining rows (excluding the last 1000)\n",
    "remaining = df.iloc[:-1500]\n",
    "\n",
    "# Randomly sample 149000 from the remaining\n",
    "sampled_149k = remaining.sample(n=148500, random_state=42)\n",
    "\n",
    "# Combine the random 149000 + last 1000 rows\n",
    "final_df = pd.concat([sampled_149k, last_1500], ignore_index=True)\n",
    "\n",
    "# Optional: Shuffle the final dataset (if needed)\n",
    "# final_df = final_df.sample(frac=1, random_state=42).reset_index(drop=True)\n",
    "\n",
    "# Save to a new CSV\n",
    "final_df.to_csv(\"finalsortedrows.csv\", index=False)\n"
   ]
  },
  {
   "cell_type": "code",
   "execution_count": null,
   "id": "c23ec92b-7751-49b2-9031-e4b397ebeff9",
   "metadata": {},
   "outputs": [],
   "source": [
    "from sklearn.model_selection import train_test_split\n",
    "import pandas as pd\n",
    "\n",
    "# Example: assume df is your main DataFrame with 1 lakh+ rows\n",
    "# Let's say you want to keep rows with indices 5, 100, and 999 in training set\n",
    "\n",
    "# Step 1: Extract specific rows\n",
    "fixed_train_rows = df.loc[[5, 100, 999]]\n",
    "\n",
    "# Step 2: Drop those rows from the original dataset\n",
    "remaining_df = df.drop(index=[5, 100, 999])\n",
    "\n",
    "# Step 3: Random split on remaining data\n",
    "train_random, test = train_test_split(remaining_df, test_size=0.2, random_state=42)\n",
    "\n",
    "# Step 4: Add fixed rows to training set\n",
    "train = pd.concat([fixed_train_rows, train_random], ignore_index=True)\n"
   ]
  }
 ],
 "metadata": {
  "kernelspec": {
   "display_name": "Python 3 (ipykernel)",
   "language": "python",
   "name": "python3"
  },
  "language_info": {
   "codemirror_mode": {
    "name": "ipython",
    "version": 3
   },
   "file_extension": ".py",
   "mimetype": "text/x-python",
   "name": "python",
   "nbconvert_exporter": "python",
   "pygments_lexer": "ipython3",
   "version": "3.12.7"
  }
 },
 "nbformat": 4,
 "nbformat_minor": 5
}
